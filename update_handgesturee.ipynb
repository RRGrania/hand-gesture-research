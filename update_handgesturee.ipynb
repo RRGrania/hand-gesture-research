{
 "cells": [
  {
   "cell_type": "code",
   "execution_count": 9,
   "id": "983d708f",
   "metadata": {},
   "outputs": [
    {
     "name": "stdout",
     "output_type": "stream",
     "text": [
      "Accuracy: 0.9361, F1-score: 0.9363\n"
     ]
    },
    {
     "data": {
      "text/plain": [
       "['gesture_model.pkl']"
      ]
     },
     "execution_count": 9,
     "metadata": {},
     "output_type": "execute_result"
    }
   ],
   "source": [
    "import pandas as pd\n",
    "import numpy as np\n",
    "import joblib\n",
    "import mlflow\n",
    "import mlflow.sklearn\n",
    "\n",
    "from sklearn.model_selection import train_test_split\n",
    "from sklearn.preprocessing import LabelEncoder\n",
    "from sklearn.metrics import accuracy_score, precision_score, recall_score, f1_score\n",
    "from xgboost import XGBClassifier\n",
    "\n",
    "# Load dataset\n",
    "df = pd.read_csv(\"hand_landmarks_data.csv\")\n",
    "\n",
    "# Map labels\n",
    "def map_label(label):\n",
    "    if label == \"peace\":\n",
    "        return \"right\"\n",
    "    elif label == \"stop\":\n",
    "        return \"left\"\n",
    "    elif \"right\" in label:\n",
    "        return \"right\"\n",
    "    elif \"left\" in label:\n",
    "        return \"left\"\n",
    "    else:\n",
    "        return label  # keep original\n",
    "\n",
    "df['label'] = df['label'].apply(map_label)\n",
    "df = df.dropna(subset=['label'])\n",
    "\n",
    "# Center by wrist (x1, y1, z1)\n",
    "wrist_x, wrist_y, wrist_z = df['x1'], df['y1'], df['z1']\n",
    "for i in range(1, 22):\n",
    "    df[f'x{i}'] -= wrist_x\n",
    "    df[f'y{i}'] -= wrist_y\n",
    "    df[f'z{i}'] -= wrist_z\n",
    "\n",
    "# Normalize by max absolute value\n",
    "max_value = df.iloc[:, :-1].abs().max(axis=1)\n",
    "for i in range(1, 22):\n",
    "    df[f'x{i}'] /= max_value\n",
    "    df[f'y{i}'] /= max_value\n",
    "    df[f'z{i}'] /= max_value\n",
    "\n",
    "# Prepare data\n",
    "X = df.drop(columns=['label'])\n",
    "y = df['label']\n",
    "\n",
    "# Encode labels\n",
    "label_encoder = LabelEncoder()\n",
    "y_encoded = label_encoder.fit_transform(y)\n",
    "\n",
    "# Save label encoder\n",
    "joblib.dump(label_encoder, \"label_encoder.pkl\")\n",
    "\n",
    "# Split data\n",
    "X_train, X_test, y_train, y_test = train_test_split(X, y_encoded, test_size=0.2, random_state=42)\n",
    "\n",
    "# Train XGBoost model\n",
    "model = XGBClassifier(max_depth=5, learning_rate=0.1, n_estimators=200, random_state=42)\n",
    "model.fit(X_train, y_train)\n",
    "\n",
    "# Evaluate\n",
    "preds = model.predict(X_test)\n",
    "acc = accuracy_score(y_test, preds)\n",
    "f1 = f1_score(y_test, preds, average=\"macro\")\n",
    "\n",
    "print(f\"Accuracy: {acc:.4f}, F1-score: {f1:.4f}\")\n",
    "\n",
    "# Save model\n",
    "joblib.dump(model, \"gesture_model.pkl\")\n"
   ]
  },
  {
   "cell_type": "code",
   "execution_count": 10,
   "id": "d274511b",
   "metadata": {},
   "outputs": [],
   "source": [
    "from fastapi import FastAPI, HTTPException\n",
    "from pydantic import BaseModel\n",
    "import joblib\n",
    "import numpy as np\n",
    "\n",
    "# Load model and label encoder\n",
    "model = joblib.load(\"gesture_model.pkl\")\n",
    "label_encoder = joblib.load(\"label_encoder.pkl\")\n",
    "\n",
    "app = FastAPI()\n",
    "\n",
    "class Landmarks(BaseModel):\n",
    "    landmarks: list[float]\n",
    "\n",
    "@app.post(\"/predict\")\n",
    "def predict(data: Landmarks):\n",
    "    if len(data.landmarks) != 63:\n",
    "        raise HTTPException(status_code=400, detail=\"Invalid number of landmarks, expected 63 floats\")\n",
    "\n",
    "    X_input = np.array(data.landmarks).reshape(1, -1)\n",
    "    pred_index = model.predict(X_input)[0]\n",
    "    gesture = label_encoder.inverse_transform([pred_index])[0]\n",
    "\n",
    "    return {\"prediction\": gesture}\n"
   ]
  },
  {
   "cell_type": "code",
   "execution_count": null,
   "id": "52a49bc5",
   "metadata": {},
   "outputs": [],
   "source": []
  }
 ],
 "metadata": {
  "kernelspec": {
   "display_name": "base",
   "language": "python",
   "name": "python3"
  },
  "language_info": {
   "codemirror_mode": {
    "name": "ipython",
    "version": 3
   },
   "file_extension": ".py",
   "mimetype": "text/x-python",
   "name": "python",
   "nbconvert_exporter": "python",
   "pygments_lexer": "ipython3",
   "version": "3.11.5"
  }
 },
 "nbformat": 4,
 "nbformat_minor": 5
}
