{
 "cells": [
  {
   "cell_type": "code",
   "execution_count": 7,
   "id": "983d708f",
   "metadata": {},
   "outputs": [
    {
     "name": "stderr",
     "output_type": "stream",
     "text": [
      "2025/05/29 22:13:49 WARNING mlflow.models.model: Model logged without a signature and input example. Please set `input_example` parameter when logging the model to auto infer the model signature.\n"
     ]
    },
    {
     "name": "stdout",
     "output_type": "stream",
     "text": [
      "XGBoost logged: acc=0.9983, f1=0.9983\n"
     ]
    },
    {
     "name": "stderr",
     "output_type": "stream",
     "text": [
      "2025/05/29 22:14:06 WARNING mlflow.models.model: Model logged without a signature and input example. Please set `input_example` parameter when logging the model to auto infer the model signature.\n"
     ]
    },
    {
     "name": "stdout",
     "output_type": "stream",
     "text": [
      "RandomForest logged: acc=0.9983, f1=0.9983\n"
     ]
    },
    {
     "name": "stderr",
     "output_type": "stream",
     "text": [
      "2025/05/29 22:14:22 WARNING mlflow.models.model: Model logged without a signature and input example. Please set `input_example` parameter when logging the model to auto infer the model signature.\n"
     ]
    },
    {
     "name": "stdout",
     "output_type": "stream",
     "text": [
      "SVM logged: acc=0.9983, f1=0.9983\n",
      "\u001b[1m19/19\u001b[0m \u001b[32m━━━━━━━━━━━━━━━━━━━━\u001b[0m\u001b[37m\u001b[0m \u001b[1m0s\u001b[0m 9ms/step\n",
      "Keras_FFNN logged: acc=0.9983, f1=0.9983\n"
     ]
    },
    {
     "data": {
      "image/png": "[encoded data removed]",
      "text/plain": [
       "<Figure size 600x600 with 2 Axes>"
      ]
     },
     "metadata": {},
     "output_type": "display_data"
    }
   ],
   "source": [
    "import pandas as pd\n",
    "import numpy as np\n",
    "import matplotlib.pyplot as plt\n",
    "import seaborn as sns\n",
    "import mlflow\n",
    "import mlflow.sklearn\n",
    "import mlflow.tensorflow\n",
    "\n",
    "from sklearn.model_selection import train_test_split\n",
    "from sklearn.preprocessing import LabelEncoder\n",
    "from sklearn.metrics import (\n",
    "    accuracy_score, precision_score, recall_score, f1_score,\n",
    "    confusion_matrix, ConfusionMatrixDisplay\n",
    ")\n",
    "\n",
    "from sklearn.ensemble import RandomForestClassifier\n",
    "from sklearn.svm import SVC\n",
    "from xgboost import XGBClassifier\n",
    "from tensorflow.keras.models import Sequential\n",
    "from tensorflow.keras.layers import Dense, Dropout\n",
    "import tensorflow as tf\n",
    "\n",
    "# Load dataset\n",
    "df = pd.read_csv(\"hand_landmarks_data.csv\")\n",
    "\n",
    "# Map labels\n",
    "def map_label(label):\n",
    "    if label == \"peace\":\n",
    "        return \"right\"\n",
    "    elif label == \"stop\":\n",
    "        return \"left\"\n",
    "    elif \"right\" in label:\n",
    "        return \"right\"\n",
    "    elif \"left\" in label:\n",
    "        return \"left\"\n",
    "    else:\n",
    "        return None\n",
    "\n",
    "df['label'] = df['label'].apply(map_label)\n",
    "df = df.dropna(subset=['label'])\n",
    "\n",
    "# Center by wrist (x1, y1, z1)\n",
    "wrist_x, wrist_y, wrist_z = df['x1'], df['y1'], df['z1']\n",
    "for i in range(1, 22):\n",
    "    df[f'x{i}'] -= wrist_x\n",
    "    df[f'y{i}'] -= wrist_y\n",
    "    df[f'z{i}'] -= wrist_z\n",
    "\n",
    "# Normalize by max absolute value\n",
    "max_value = df.iloc[:, :-1].abs().max(axis=1)\n",
    "for i in range(1, 22):\n",
    "    df[f'x{i}'] /= max_value\n",
    "    df[f'y{i}'] /= max_value\n",
    "    df[f'z{i}'] /= max_value\n",
    "\n",
    "# Prepare data\n",
    "X = df.drop(columns=['label'])\n",
    "y = df['label']\n",
    "\n",
    "# Encode labels\n",
    "label_encoder = LabelEncoder()\n",
    "y_encoded = label_encoder.fit_transform(y)\n",
    "\n",
    "# Split data\n",
    "random_state = 42\n",
    "X_train, X_test, y_train, y_test = train_test_split(X, y_encoded, test_size=0.2, random_state=random_state)\n",
    "\n",
    "# Set MLflow experiment\n",
    "mlflow.set_experiment(\"hand_gesture_recognition\")\n",
    "\n",
    "# Models\n",
    "models = [\n",
    "    {\n",
    "        \"name\": \"XGBoost\",\n",
    "        \"estimator\": XGBClassifier(max_depth=5, learning_rate=0.1, n_estimators=200, random_state=random_state)\n",
    "    },\n",
    "    {\n",
    "        \"name\": \"RandomForest\",\n",
    "        \"estimator\": RandomForestClassifier(n_estimators=100, max_depth=10, random_state=random_state)\n",
    "    },\n",
    "    {\n",
    "        \"name\": \"SVM\",\n",
    "        \"estimator\": SVC(kernel='rbf', probability=True, C=1.0, random_state=random_state)\n",
    "    }\n",
    "]\n",
    "\n",
    "# Train and log sklearn models\n",
    "for model_info in models:\n",
    "    model_name = model_info[\"name\"]\n",
    "    model = model_info[\"estimator\"]\n",
    "    \n",
    "    with mlflow.start_run(run_name=model_name):\n",
    "        mlflow.set_tag(\"user\", \"rania\")\n",
    "\n",
    "        model.fit(X_train, y_train)\n",
    "        preds = model.predict(X_test)\n",
    "\n",
    "        acc = accuracy_score(y_test, preds)\n",
    "        precision = precision_score(y_test, preds, average=\"macro\")\n",
    "        recall = recall_score(y_test, preds, average=\"macro\")\n",
    "        f1 = f1_score(y_test, preds, average=\"macro\")\n",
    "\n",
    "        mlflow.log_param(\"model\", model_name)\n",
    "        mlflow.log_metric(\"accuracy\", acc)\n",
    "        mlflow.log_metric(\"precision\", precision)\n",
    "        mlflow.log_metric(\"recall\", recall)\n",
    "        mlflow.log_metric(\"f1_score\", f1)\n",
    "        mlflow.sklearn.log_model(model, artifact_path=f\"{model_name}_model\")\n",
    "\n",
    "        print(f\"{model_name} logged: acc={acc:.4f}, f1={f1:.4f}\")\n",
    "\n",
    "# Keras FFNN\n",
    "X_train_keras = X_train.astype(\"float32\")\n",
    "X_test_keras = X_test.astype(\"float32\")\n",
    "y_train_keras = tf.keras.utils.to_categorical(y_train)\n",
    "y_test_keras = tf.keras.utils.to_categorical(y_test)\n",
    "num_classes = y_train_keras.shape[1]\n",
    "\n",
    "with mlflow.start_run(run_name=\"Keras_FFNN\"):\n",
    "    mlflow.set_tag(\"user\", \"rania\")\n",
    "\n",
    "    model = Sequential([\n",
    "        Dense(128, activation='relu', input_shape=(X_train_keras.shape[1],)),\n",
    "        Dropout(0.3),\n",
    "        Dense(64, activation='relu'),\n",
    "        Dropout(0.3),\n",
    "        Dense(num_classes, activation='softmax')\n",
    "    ])\n",
    "    model.compile(optimizer='adam', loss='categorical_crossentropy', metrics=['accuracy'])\n",
    "\n",
    "    model.fit(X_train_keras, y_train_keras, validation_split=0.2, epochs=30, batch_size=32, verbose=0)\n",
    "\n",
    "    y_pred_probs = model.predict(X_test_keras)\n",
    "    y_pred = np.argmax(y_pred_probs, axis=1)\n",
    "    y_true = np.argmax(y_test_keras, axis=1)\n",
    "\n",
    "    acc = accuracy_score(y_true, y_pred)\n",
    "    precision = precision_score(y_true, y_pred, average=\"macro\")\n",
    "    recall = recall_score(y_true, y_pred, average=\"macro\")\n",
    "    f1 = f1_score(y_true, y_pred, average=\"macro\")\n",
    "\n",
    "    mlflow.log_param(\"model\", \"Keras_FFNN\")\n",
    "    mlflow.log_metric(\"accuracy\", acc)\n",
    "    mlflow.log_metric(\"precision\", precision)\n",
    "    mlflow.log_metric(\"recall\", recall)\n",
    "    mlflow.log_metric(\"f1_score\", f1)\n",
    "\n",
    "    model.save(\"keras_ffnn_model.keras\")\n",
    "    mlflow.log_artifact(\"keras_ffnn_model.keras\")\n",
    "    # Confusion Matrix\n",
    "    cm = confusion_matrix(y_true, y_pred)\n",
    "    disp = ConfusionMatrixDisplay(confusion_matrix=cm, display_labels=label_encoder.classes_)\n",
    "    fig, ax = plt.subplots(figsize=(6, 6))\n",
    "    disp.plot(ax=ax, cmap='Blues', values_format='d')\n",
    "    plt.title(\"Confusion Matrix - Keras FFNN\")\n",
    "    plt.savefig(\"confusion_matrix_keras.png\")\n",
    "    mlflow.log_artifact(\"confusion_matrix_keras.png\")\n",
    "\n",
    "    print(f\"Keras_FFNN logged: acc={acc:.4f}, f1={f1:.4f}\")\n"
   ]
  },
  {
   "cell_type": "code",
   "execution_count": 8,
   "id": "d274511b",
   "metadata": {},
   "outputs": [],
   "source": [
    "import joblib\n",
    "joblib.dump(model, f\"{model_name}_model.pkl\")  \n",
    "mlflow.log_artifact(f\"{model_name}_model.pkl\")  "
   ]
  },
  {
   "cell_type": "code",
   "execution_count": null,
   "id": "52a49bc5",
   "metadata": {},
   "outputs": [],
   "source": []
  }
 ],
 "metadata": {
  "kernelspec": {
   "display_name": "base",
   "language": "python",
   "name": "python3"
  },
  "language_info": {
   "codemirror_mode": {
    "name": "ipython",
    "version": 3
   },
   "file_extension": ".py",
   "mimetype": "text/x-python",
   "name": "python",
   "nbconvert_exporter": "python",
   "pygments_lexer": "ipython3",
   "version": "3.11.5"
  }
 },
 "nbformat": 4,
 "nbformat_minor": 5
}
